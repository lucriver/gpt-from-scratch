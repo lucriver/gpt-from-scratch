{
 "cells": [
  {
   "cell_type": "code",
   "execution_count": 1,
   "metadata": {},
   "outputs": [],
   "source": [
    "# make sure torch can work with my AMD GPU (this is a nightmare)\n",
    "import os\n",
    "os.environ['HSA_OVERRIDE_GFX_VERSION'] = '10.3.0'"
   ]
  },
  {
   "cell_type": "code",
   "execution_count": 2,
   "metadata": {},
   "outputs": [
    {
     "name": "stdout",
     "output_type": "stream",
     "text": [
      "\n",
      " !$&',-.3:;?ABCDEFGHIJKLMNOPQRSTUVWXYZabcdefghijklmnopqrstuvwxyz\n",
      "65\n"
     ]
    }
   ],
   "source": [
    "# get unique set of characters from input text\n",
    "with open('input.txt','r', encoding='utf-8') as f:\n",
    "  text = f.read()\n",
    "\n",
    "chars = sorted(list(set(text)))\n",
    "vocab_size = len(chars)\n",
    "\n",
    "print(\"\".join(chars))\n",
    "print(vocab_size)"
   ]
  },
  {
   "cell_type": "markdown",
   "metadata": {},
   "source": [
    "**Tokenization codebook trade-off:** Trade-off between codebook sizes and sequence lengths. Having a large code book can result in encodings being shorter. Having a small codebook can result in the encodings being longer.\n",
    "\n",
    "Here, we are a using a simple character-level tokenizer. In real-world practice however, it is more common to use sub-word based encoding."
   ]
  },
  {
   "cell_type": "code",
   "execution_count": 3,
   "metadata": {},
   "outputs": [
    {
     "name": "stdout",
     "output_type": "stream",
     "text": [
      "[46, 47, 1, 58, 46, 43, 56, 43]\n",
      "hi there\n"
     ]
    }
   ],
   "source": [
    "# Encoder and decoder (tokenizer)\n",
    "\n",
    "# character-based encoding\n",
    "stoi = { char: i for i, char in enumerate(chars) }\n",
    "itos = { i: char for i, char in enumerate(chars) }\n",
    "encode = lambda s: [stoi[char] for char in s]\n",
    "decode = lambda l: \"\".join(itos[char] for char in l)\n",
    "\n",
    "print(encode('hi there'))\n",
    "print(decode(encode('hi there')))"
   ]
  },
  {
   "cell_type": "code",
   "execution_count": 4,
   "metadata": {},
   "outputs": [],
   "source": [
    "# read data into a tensor\n",
    "import torch\n",
    "data = torch.tensor(encode(text), dtype=torch.long).cuda()"
   ]
  },
  {
   "cell_type": "code",
   "execution_count": null,
   "metadata": {},
   "outputs": [],
   "source": [
    "n = int(0.9 * len(data))\n",
    "train_data = data[:n]\n",
    "val_data = data[n:]\n"
   ]
  },
  {
   "cell_type": "code",
   "execution_count": null,
   "metadata": {},
   "outputs": [],
   "source": [
    "# Define our \"chunk\" size for segments of training data to train\n",
    "block_size = 8\n",
    "x = train_data[:block_size]\n",
    "y = train_data[1:block_size+1]\n",
    "print(x.tolist())\n",
    "for t in range(block_size):\n",
    "  context = x[:t+1]\n",
    "  target = y[t]\n",
    "  print(f\"When input is {context.tolist()} the target: {target.tolist()}.\")"
   ]
  },
  {
   "cell_type": "code",
   "execution_count": null,
   "metadata": {},
   "outputs": [],
   "source": [
    "torch.manual_seed(1337)\n",
    "batch_size = 4 # how many sequences in parallel to process\n",
    "block_size = 8 # length of our sequences\n",
    "\n",
    "def get_batch(split):\n",
    "  # obtain batch from train or validation set\n",
    "  data = train_data if split == 'train' else val_data\n",
    "  indexes = torch.randint(len(data) - block_size, (batch_size,))\n",
    "  x = torch.stack([data[i:i+block_size] for i in indexes])\n",
    "  y = torch.stack([data[i+1:i+block_size+1] for i in indexes])\n",
    "  return x, y\n",
    "\n",
    "xb, yb = get_batch('train')\n",
    "print(\"inputs:\")\n",
    "print(xb)\n",
    "print(\"outputs:\")\n",
    "print(yb)\n",
    "\n",
    "print(\" --- \")\n",
    "\n",
    "for b in range(batch_size):\n",
    "  for t in range(block_size):\n",
    "    x = xb[b][:t+1].tolist()\n",
    "    y = yb[b][t].tolist()\n",
    "    print(f\"when input is {x} the target is {y}\")"
   ]
  },
  {
   "cell_type": "code",
   "execution_count": null,
   "metadata": {},
   "outputs": [],
   "source": [
    "# define the model\n",
    "\n",
    "import torch\n",
    "import torch.nn as nn\n",
    "from torch.nn import functional as F\n",
    "torch.manual_seed(1337)\n",
    "\n",
    "class BigramLanguageModel(nn.Module):\n",
    "  def __init__(self, vocab_size):\n",
    "    super().__init__()\n",
    "    self.token_embedding_table = nn.Embedding(vocab_size, vocab_size)\n",
    "    \n",
    "  def forward(self, idx, targets=None):\n",
    "    # idx and targets are both (B,T) tensor of integers\n",
    "    logits = self.token_embedding_table(idx)\n",
    "    \n",
    "    if targets is None:\n",
    "      loss = None\n",
    "    else:\n",
    "      B, T, C = logits.shape\n",
    "      logits = logits.view(B*T, C)\n",
    "      targets = targets.view(B*T)\n",
    "      loss = F.cross_entropy(logits, targets)\n",
    "    \n",
    "    return logits, loss\n",
    "  \n",
    "  def generate(self, idx, max_new_tokens):\n",
    "    for _ in range(max_new_tokens):\n",
    "      logits, loss = self.forward(idx)\n",
    "      logits = logits[:, -1, :]\n",
    "      probs = F.softmax(logits, dim=-1)\n",
    "      idx_next = torch.multinomial(probs, num_samples=1)\n",
    "      idx = torch.cat((idx,idx_next), dim=1)\n",
    "    return idx\n",
    "  \n",
    "model = BigramLanguageModel(vocab_size).cuda()"
   ]
  },
  {
   "cell_type": "code",
   "execution_count": null,
   "metadata": {},
   "outputs": [],
   "source": [
    "# example of what logits are\n",
    "\n",
    "# consider the first sequence of the batch\n",
    "print(f\"First sequence:\")\n",
    "seq_0 = xb[0]\n",
    "print(seq_0.tolist())\n",
    "\n",
    "print(\" --- \")\n",
    "\n",
    "# obtain the logits\n",
    "logits, _ = model.forward(xb, yb)\n",
    "\n",
    "# for each of the 8 characters of the sequence, we get an array of 65 elements representing\n",
    "# the probabilities of characters being the token (higher means more likely)\n",
    "import numpy as np\n",
    "\n",
    "# probabilities\n",
    "seq_logits = logits[:8]\n",
    "for idx in range(len(seq_0)):\n",
    "  print(f\"Char {seq_0[idx]}\")\n",
    "  print(f\"Probabilities(logits): {np.round(seq_logits[idx].tolist(),2)}\")"
   ]
  },
  {
   "cell_type": "code",
   "execution_count": null,
   "metadata": {},
   "outputs": [],
   "source": [
    "# generate next tokens with input of [[0.0]]\n",
    "decode(model.generate(idx = torch.zeros((1,1), dtype=torch.long).cuda(), max_new_tokens=100)[0].cpu().tolist())"
   ]
  },
  {
   "cell_type": "code",
   "execution_count": null,
   "metadata": {},
   "outputs": [],
   "source": [
    "# Define the optimizer for training\n",
    "optimizer = torch.optim.AdamW(model.parameters(), lr=0.001)"
   ]
  },
  {
   "cell_type": "code",
   "execution_count": null,
   "metadata": {},
   "outputs": [],
   "source": [
    "batch_size = 32\n",
    "for steps in range(10000):\n",
    "  xb, yb = get_batch('train')\n",
    "  logits, loss = model.forward(xb,yb)\n",
    "  optimizer.zero_grad(set_to_none=True)\n",
    "  loss.backward()\n",
    "  optimizer.step()\n",
    "\n",
    "print(loss.item())"
   ]
  },
  {
   "cell_type": "code",
   "execution_count": null,
   "metadata": {},
   "outputs": [],
   "source": [
    "# generate text again after training \n",
    "print(decode(model.generate(idx = torch.zeros((1,1), dtype=torch.long).cuda(), max_new_tokens=300)[0].cpu().tolist()))"
   ]
  },
  {
   "cell_type": "code",
   "execution_count": null,
   "metadata": {},
   "outputs": [],
   "source": []
  }
 ],
 "metadata": {
  "kernelspec": {
   "display_name": "env",
   "language": "python",
   "name": "python3"
  },
  "language_info": {
   "codemirror_mode": {
    "name": "ipython",
    "version": 3
   },
   "file_extension": ".py",
   "mimetype": "text/x-python",
   "name": "python",
   "nbconvert_exporter": "python",
   "pygments_lexer": "ipython3",
   "version": "3.10.12"
  }
 },
 "nbformat": 4,
 "nbformat_minor": 2
}
